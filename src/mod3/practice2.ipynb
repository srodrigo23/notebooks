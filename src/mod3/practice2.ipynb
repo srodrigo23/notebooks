{
 "cells": [
  {
   "cell_type": "code",
   "execution_count": 1,
   "metadata": {},
   "outputs": [],
   "source": [
    "import numpy as np"
   ]
  },
  {
   "cell_type": "markdown",
   "metadata": {},
   "source": [
    "# Ejercicios"
   ]
  },
  {
   "cell_type": "code",
   "execution_count": 31,
   "metadata": {},
   "outputs": [
    {
     "name": "stdout",
     "output_type": "stream",
     "text": [
      "A = [[3 0 1 0]\n",
      " [2 1 2 4]\n",
      " [4 3 3 3]\n",
      " [4 3 2 0]\n",
      " [0 2 1 4]]\n",
      "(5, 4)\n",
      "B = [[3 1 1 3 2]\n",
      " [0 2 3 1 2]\n",
      " [3 4 1 1 4]\n",
      " [1 0 4 3 3]]\n",
      "(4, 5)\n",
      "AB = [[12  7  4 10 10]\n",
      " [16 12 23 21 26]\n",
      " [24 22 28 27 35]\n",
      " [18 18 15 17 22]\n",
      " [ 7  8 23 15 20]]\n"
     ]
    },
    {
     "data": {
      "text/plain": [
       "np.float64(0.0)"
      ]
     },
     "execution_count": 31,
     "metadata": {},
     "output_type": "execute_result"
    }
   ],
   "source": [
    "# Matriz singular: su determinante es cero\n",
    "# There is one important theorem on singular matrix that can actually be used to generate a singular matrix and the theorem says: \"The product of two matrices A = [A]n × k and B = [B]k × n (where n > k) is a matrix AB of order n × n and is always singular\". By this theorem:\n",
    "\n",
    "# The product AB of two matrices A of order n × 1 and B of order 1 × n is singular always.\n",
    "# The product AB of two matrices A of order n × 2 and B of order 2 × n is also singular, etc.\n",
    "# Using this theorem, one can generate a singular matrix by multiplying two randomly generated matrices of orders n × k and k × n where n > k.\n",
    "\n",
    "A = np.random.randint(5, size=(5, 4))\n",
    "print(\"A =\" , A)\n",
    "print(A.shape)\n",
    "B = np.random.randint(5, size=(4, 5))\n",
    "print(\"B =\" , B)\n",
    "print(B.shape)\n",
    "AB = np.matmul(A, B)\n",
    "print(\"AB =\" , AB)\n",
    "np.linalg.det(AB) # determinante cero\n"
   ]
  },
  {
   "cell_type": "code",
   "execution_count": 19,
   "metadata": {},
   "outputs": [
    {
     "data": {
      "text/plain": [
       "np.float64(0.0)"
      ]
     },
     "execution_count": 19,
     "metadata": {},
     "output_type": "execute_result"
    }
   ],
   "source": [
    "A = np.random.randint(5, size=(5, 4))\n",
    "print(\"A =\" , A)\n",
    "print(A.shape)\n",
    "B = np.random.randint(5, size=(4, 5))\n",
    "print(\"B =\" , B)\n",
    "print(B.shape)\n",
    "AB = np.matmul(A, B)\n",
    "print(\"AB =\" , AB)\n",
    "np.linalg.det(AB) # determinante cero"
   ]
  },
  {
   "cell_type": "code",
   "execution_count": 33,
   "metadata": {},
   "outputs": [
    {
     "data": {
      "text/plain": [
       "array([[4., 0., 0., 0.],\n",
       "       [0., 4., 0., 0.],\n",
       "       [0., 0., 4., 0.],\n",
       "       [0., 0., 0., 4.]])"
      ]
     },
     "execution_count": 33,
     "metadata": {},
     "output_type": "execute_result"
    }
   ],
   "source": [
    "4*np.eye(4)"
   ]
  },
  {
   "cell_type": "code",
   "execution_count": 34,
   "metadata": {},
   "outputs": [],
   "source": [
    "import cv2"
   ]
  },
  {
   "cell_type": "code",
   "execution_count": null,
   "metadata": {},
   "outputs": [],
   "source": []
  }
 ],
 "metadata": {
  "kernelspec": {
   "display_name": ".venv",
   "language": "python",
   "name": "python3"
  },
  "language_info": {
   "codemirror_mode": {
    "name": "ipython",
    "version": 3
   },
   "file_extension": ".py",
   "mimetype": "text/x-python",
   "name": "python",
   "nbconvert_exporter": "python",
   "pygments_lexer": "ipython3",
   "version": "3.11.8"
  }
 },
 "nbformat": 4,
 "nbformat_minor": 2
}
